{
 "cells": [
  {
   "cell_type": "code",
   "execution_count": 1,
   "id": "2559d654",
   "metadata": {},
   "outputs": [
    {
     "name": "stdout",
     "output_type": "stream",
     "text": [
      "Collecting pandas\n",
      "  Using cached pandas-2.2.3-cp313-cp313-win_amd64.whl.metadata (19 kB)\n",
      "Collecting numpy>=1.26.0 (from pandas)\n",
      "  Using cached numpy-2.2.5-cp313-cp313-win_amd64.whl.metadata (60 kB)\n",
      "Requirement already satisfied: python-dateutil>=2.8.2 in c:\\users\\huawei\\desktop\\ironhack\\week 6\\lab-mlops-deploy-prod-to-dev\\.venv\\lib\\site-packages (from pandas) (2.9.0.post0)\n",
      "Collecting pytz>=2020.1 (from pandas)\n",
      "  Using cached pytz-2025.2-py2.py3-none-any.whl.metadata (22 kB)\n",
      "Collecting tzdata>=2022.7 (from pandas)\n",
      "  Using cached tzdata-2025.2-py2.py3-none-any.whl.metadata (1.4 kB)\n",
      "Requirement already satisfied: six>=1.5 in c:\\users\\huawei\\desktop\\ironhack\\week 6\\lab-mlops-deploy-prod-to-dev\\.venv\\lib\\site-packages (from python-dateutil>=2.8.2->pandas) (1.17.0)\n",
      "Using cached pandas-2.2.3-cp313-cp313-win_amd64.whl (11.5 MB)\n",
      "Using cached numpy-2.2.5-cp313-cp313-win_amd64.whl (12.6 MB)\n",
      "Using cached pytz-2025.2-py2.py3-none-any.whl (509 kB)\n",
      "Using cached tzdata-2025.2-py2.py3-none-any.whl (347 kB)\n",
      "Installing collected packages: pytz, tzdata, numpy, pandas\n",
      "Successfully installed numpy-2.2.5 pandas-2.2.3 pytz-2025.2 tzdata-2025.2\n",
      "Note: you may need to restart the kernel to use updated packages.\n"
     ]
    }
   ],
   "source": [
    "pip install pandas"
   ]
  },
  {
   "cell_type": "code",
   "execution_count": 2,
   "id": "f6e53ba0",
   "metadata": {},
   "outputs": [
    {
     "name": "stdout",
     "output_type": "stream",
     "text": [
      "Full DataFrame:\n",
      "      Name  Age    City\n",
      "0    Alice   25   Paris\n",
      "1      Bob   30  London\n",
      "2  Charlie   35  Berlin\n",
      "3    David   40  Madrid\n",
      "\n",
      "People older than 30:\n",
      "      Name  Age    City\n",
      "2  Charlie   35  Berlin\n",
      "3    David   40  Madrid\n",
      "\n",
      "Summary of Age column:\n",
      "count     4.000000\n",
      "mean     32.500000\n",
      "std       6.454972\n",
      "min      25.000000\n",
      "25%      28.750000\n",
      "50%      32.500000\n",
      "75%      36.250000\n",
      "max      40.000000\n",
      "Name: Age, dtype: float64\n"
     ]
    }
   ],
   "source": [
    "# Step 1: Import pandas\n",
    "import pandas as pd\n",
    "\n",
    "# Step 2: Create a sample DataFrame\n",
    "data = {\n",
    "    'Name': ['Alice', 'Bob', 'Charlie', 'David'],\n",
    "    'Age': [25, 30, 35, 40],\n",
    "    'City': ['Paris', 'London', 'Berlin', 'Madrid']\n",
    "}\n",
    "\n",
    "df = pd.DataFrame(data)\n",
    "\n",
    "# Step 3: Show the DataFrame\n",
    "print(\"Full DataFrame:\")\n",
    "print(df)\n",
    "\n",
    "# Step 4: Filter the data (e.g., people older than 30)\n",
    "filtered_df = df[df['Age'] > 30]\n",
    "\n",
    "print(\"\\nPeople older than 30:\")\n",
    "print(filtered_df)\n",
    "\n",
    "# Step 5: Summary statistics\n",
    "print(\"\\nSummary of Age column:\")\n",
    "print(df['Age'].describe())\n"
   ]
  }
 ],
 "metadata": {
  "kernelspec": {
   "display_name": ".venv",
   "language": "python",
   "name": "python3"
  },
  "language_info": {
   "codemirror_mode": {
    "name": "ipython",
    "version": 3
   },
   "file_extension": ".py",
   "mimetype": "text/x-python",
   "name": "python",
   "nbconvert_exporter": "python",
   "pygments_lexer": "ipython3",
   "version": "3.13.2"
  }
 },
 "nbformat": 4,
 "nbformat_minor": 5
}
